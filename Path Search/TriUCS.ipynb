{
 "cells": [
  {
   "cell_type": "code",
   "execution_count": 1,
   "metadata": {},
   "outputs": [],
   "source": [
    "import networkx as nx\n",
    "import matplotlib.pyplot as plt\n",
    "import os\n",
    "import pandas as pd\n",
    "import numpy as np\n",
    "import math\n",
    "import time\n",
    "import random"
   ]
  },
  {
   "cell_type": "code",
   "execution_count": 2,
   "metadata": {},
   "outputs": [],
   "source": [
    "os.chdir(\"E:/AI/assignment_2_online\")"
   ]
  },
  {
   "cell_type": "code",
   "execution_count": 3,
   "metadata": {},
   "outputs": [],
   "source": [
    "romania=pd.read_pickle(\"romania_graph.pickle\")\n",
    "atlanta=pd.read_pickle(\"atlanta_osm.pickle\")"
   ]
  },
  {
   "cell_type": "code",
   "execution_count": 4,
   "metadata": {},
   "outputs": [
    {
     "name": "stdout",
     "output_type": "stream",
     "text": [
      "Name: \n",
      "Type: Graph\n",
      "Number of nodes: 252791\n",
      "Number of edges: 271652\n",
      "Average degree:   2.1492\n"
     ]
    }
   ],
   "source": [
    "print(nx.info(atlanta))"
   ]
  },
  {
   "cell_type": "code",
   "execution_count": 5,
   "metadata": {},
   "outputs": [],
   "source": [
    "def getpath(middlepoint, explored1,explored2,start,goal):\n",
    "    invers_halfpath=[middlepoint]\n",
    "    while True:\n",
    "        next=invers_halfpath[-1]\n",
    "        if next==start:\n",
    "            break\n",
    "        else:\n",
    "            invers_halfpath.append(explored1[next][1])\n",
    "    halfpath=[middlepoint]\n",
    "    while True:\n",
    "        next=halfpath[-1]\n",
    "        if next==goal:\n",
    "            break\n",
    "        else:\n",
    "            halfpath.append(explored2[next][1])\n",
    "    path=invers_halfpath[::-1]+halfpath[1:]\n",
    "    return path"
   ]
  },
  {
   "cell_type": "code",
   "execution_count": 6,
   "metadata": {},
   "outputs": [],
   "source": [
    "def nextexplording(frontier):\n",
    "    shortest_dist=float('inf')\n",
    "    for key, value in frontier.items():           \n",
    "        if value[0]<shortest_dist:\n",
    "            shortest_dist=value[0]\n",
    "            to_be_explored=key\n",
    "    return to_be_explored"
   ]
  },
  {
   "cell_type": "code",
   "execution_count": 10,
   "metadata": {},
   "outputs": [],
   "source": [
    "def expandfrontier(graph,to_be_explored,frontier,explored):\n",
    "    for key,value in graph[to_be_explored].items():\n",
    "        if key in explored.keys():\n",
    "            continue\n",
    "        if key in frontier.keys():\n",
    "            new_distance=frontier[to_be_explored][0]+value['weight']\n",
    "            if new_distance<frontier[key][0]:\n",
    "                frontier[key]=(new_distance,to_be_explored)\n",
    "        else:\n",
    "            distance=frontier[to_be_explored][0]+value['weight']\n",
    "            frontier[key]=(distance,to_be_explored)\n",
    "    return frontier"
   ]
  },
  {
   "cell_type": "code",
   "execution_count": 98,
   "metadata": {},
   "outputs": [],
   "source": [
    "def tridirection_ucs(graph,A, B, C):\n",
    "    start_time=time.time()\n",
    "    frontierA={A:(0,\"A\")}\n",
    "    frontierB={B:(0,\"B\")}\n",
    "    frontierC={C:(0,'C')}\n",
    "    exploredA={}\n",
    "    exploredB={}\n",
    "    exploredC={}\n",
    "    num_middlepoint=0\n",
    "    middlepoint={}\n",
    "    while True:\n",
    "        if frontierA=={} or frontierB=={} or frontierC=={}:\n",
    "            print(\"Failed to find a path.\")\n",
    "            eclipse_time=time.time()-start_time\n",
    "            return \"Falied to find the path.\",0,eclipse_time\n",
    "            break\n",
    "        to_be_exploredA=nextexplording(frontierA)\n",
    "        exploredA[to_be_exploredA]=frontierA[to_be_exploredA]\n",
    "        to_be_exploredB=nextexplording(frontierB)\n",
    "        exploredB[to_be_exploredB]=frontierB[to_be_exploredB] \n",
    "        to_be_exploredC=nextexplording(frontierC)\n",
    "        exploredC[to_be_exploredC]=frontierC[to_be_exploredC]  \n",
    "        frontierA=expandfrontier(graph,to_be_exploredA,frontierA,exploredA)\n",
    "        frontierB=expandfrontier(graph,to_be_exploredB,frontierB,exploredB)\n",
    "        frontierC=expandfrontier(graph,to_be_exploredC,frontierC,exploredC)\n",
    "        frontierA.pop(to_be_exploredA)\n",
    "        frontierB.pop(to_be_exploredB)\n",
    "        frontierC.pop(to_be_exploredC)\n",
    "        if 'AB' not in middlepoint.keys():\n",
    "            if to_be_exploredA in exploredB.keys():\n",
    "                middlepoint['AB']=to_be_exploredA\n",
    "                num_middlepoint+=1\n",
    "            elif to_be_exploredB in exploredA.keys():\n",
    "                middlepoint['AB']=to_be_exploredB\n",
    "                num_middlepoint+=1\n",
    "        if num_middlepoint==2:\n",
    "            break\n",
    "        if 'AC' not in middlepoint.keys():\n",
    "            if to_be_exploredA in exploredC.keys():\n",
    "                middlepoint['AC']=to_be_exploredA\n",
    "                num_middlepoint+=1\n",
    "            elif to_be_exploredC in exploredA.keys():\n",
    "                middlepoint['AC']=to_be_exploredC\n",
    "                num_middlepoint+=1\n",
    "        if num_middlepoint==2:\n",
    "            break\n",
    "        if 'BC' not in middlepoint.keys():\n",
    "            if to_be_exploredB in exploredC.keys():\n",
    "                middlepoint['BC']=to_be_exploredB\n",
    "                num_middlepoint+=1\n",
    "            elif to_be_exploredC in exploredB.keys():\n",
    "                middlepoint['BC']=to_be_exploredC\n",
    "                num_middlepoint+=1\n",
    "        if num_middlepoint==2:\n",
    "            break\n",
    "    if 'AB' in middlepoint.keys():\n",
    "        pathAB=getpath(middlepoint['AB'], exploredA,exploredB,A,B)\n",
    "    if 'AC' in middlepoint.keys():\n",
    "        pathAC=getpath(middlepoint['AC'], exploredA,exploredC,A,C)\n",
    "    if 'BC' in middlepoint.keys():\n",
    "        pathBC=getpath(middlepoint['BC'], exploredB,exploredC,B,C)\n",
    "    if 'AB' not in middlepoint.keys():\n",
    "        path=pathAC+pathBC[::-1][1:]\n",
    "        distance=exploredA[middlepoint['AC']][0]+exploredC[middlepoint['AC']][0]+exploredB[middlepoint['BC']][0]+exploredC[middlepoint['BC']][0]\n",
    "    elif 'AC' not in middlepoint.keys():\n",
    "        path=pathAB+pathBC[1:]\n",
    "        distance=exploredA[middlepoint['AB']][0]+exploredB[middlepoint['AB']][0]+exploredB[middlepoint['BC']][0]+exploredC[middlepoint['BC']][0]\n",
    "    elif 'BC' not in middlepoint.keys():\n",
    "        path=pathAB[::-1]+pathAC[1:]\n",
    "        distance=exploredA[middlepoint['AB']][0]+exploredB[middlepoint['AB']][0]+exploredA[middlepoint['AC']][0]+exploredC[middlepoint['AC']][0]\n",
    "    time_eclipse=time.time()-start_time\n",
    "    return path,distance,time_eclipse"
   ]
  },
  {
   "cell_type": "code",
   "execution_count": 99,
   "metadata": {},
   "outputs": [
    {
     "name": "stdout",
     "output_type": "stream",
     "text": [
      "Average time needed for tri-direction ucs is 0.000000.\n"
     ]
    }
   ],
   "source": [
    "time1=0\n",
    "for i in range(1):\n",
    "    A,B,C=random.sample(romania.nodes(),3)\n",
    "    path,distance,eclipse_time=tridirection_ucs(romania,A,B,C)\n",
    "    time1+=eclipse_time\n",
    "print(\"Average time needed for tri-direction ucs is %f.\"%(time1/(i+1)))  \n",
    "    "
   ]
  },
  {
   "cell_type": "code",
   "execution_count": 100,
   "metadata": {},
   "outputs": [
    {
     "name": "stdout",
     "output_type": "stream",
     "text": [
      "A,B,C: i e s\n"
     ]
    }
   ],
   "source": [
    "print(\"A,B,C:\",A,B,C)"
   ]
  },
  {
   "cell_type": "code",
   "execution_count": 101,
   "metadata": {},
   "outputs": [
    {
     "data": {
      "text/plain": [
       "['i', 'v', 'u', 'h', 'e', 'h', 'u', 'b', 'p', 'r', 's']"
      ]
     },
     "execution_count": 101,
     "metadata": {},
     "output_type": "execute_result"
    }
   ],
   "source": [
    "path"
   ]
  },
  {
   "cell_type": "code",
   "execution_count": 23,
   "metadata": {},
   "outputs": [
    {
     "name": "stderr",
     "output_type": "stream",
     "text": [
      "C:\\Users\\huimi\\Anaconda3\\lib\\site-packages\\networkx\\drawing\\nx_pylab.py:522: MatplotlibDeprecationWarning: The is_string_like function was deprecated in version 2.1.\n",
      "  if not cb.is_string_like(edge_color) \\\n",
      "C:\\Users\\huimi\\Anaconda3\\lib\\site-packages\\networkx\\drawing\\nx_pylab.py:543: MatplotlibDeprecationWarning: The is_string_like function was deprecated in version 2.1.\n",
      "  if cb.is_string_like(edge_color) or len(edge_color) == 1:\n",
      "C:\\Users\\huimi\\Anaconda3\\lib\\site-packages\\networkx\\drawing\\nx_pylab.py:724: MatplotlibDeprecationWarning: The is_string_like function was deprecated in version 2.1.\n",
      "  if not cb.is_string_like(label):\n"
     ]
    },
    {
     "data": {
      "image/png": "[encoded data removed]",
      "text/plain": [
       "<Figure size 432x288 with 1 Axes>"
      ]
     },
     "metadata": {},
     "output_type": "display_data"
    }
   ],
   "source": [
    "nx.draw_networkx(romania)"
   ]
  },
  {
   "cell_type": "code",
   "execution_count": 102,
   "metadata": {},
   "outputs": [
    {
     "name": "stdout",
     "output_type": "stream",
     "text": [
      "Failed to find a path.\n",
      "Failed to find a path.\n",
      "Failed to find a path.\n",
      "Failed to find a path.\n",
      "Failed to find a path.\n",
      "Failed to find a path.\n",
      "Average time needed for tri-direction ucs is 5.059297.\n"
     ]
    }
   ],
   "source": [
    "time2=0\n",
    "for i in range(100):\n",
    "    A,B,C=random.sample(atlanta.nodes(),3)\n",
    "    path,distance,eclipse_time=tridirection_ucs(atlanta,A,B,C)\n",
    "    time2+=eclipse_time\n",
    "print(\"Average time needed for tri-direction ucs is %f.\"%(time2/(i+1)))  "
   ]
  },
  {
   "cell_type": "markdown",
   "metadata": {},
   "source": [
    "Summary: The average time needed to find a path connecting three nodes using tridirection-ucs is 5.05s."
   ]
  },
  {
   "cell_type": "code",
   "execution_count": null,
   "metadata": {},
   "outputs": [],
   "source": []
  }
 ],
 "metadata": {
  "kernelspec": {
   "display_name": "Python 3",
   "language": "python",
   "name": "python3"
  },
  "language_info": {
   "codemirror_mode": {
    "name": "ipython",
    "version": 3
   },
   "file_extension": ".py",
   "mimetype": "text/x-python",
   "name": "python",
   "nbconvert_exporter": "python",
   "pygments_lexer": "ipython3",
   "version": "3.6.5"
  }
 },
 "nbformat": 4,
 "nbformat_minor": 2
}
