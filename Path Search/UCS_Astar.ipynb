{
 "cells": [
  {
   "cell_type": "code",
   "execution_count": 142,
   "metadata": {},
   "outputs": [],
   "source": [
    "import networkx as nx\n",
    "import matplotlib.pyplot as plt\n",
    "import os\n",
    "import pandas as pd\n",
    "import numpy as np\n",
    "import math"
   ]
  },
  {
   "cell_type": "code",
   "execution_count": 143,
   "metadata": {},
   "outputs": [],
   "source": [
    "os.chdir(\"E:/AI/assignment_2_online\")"
   ]
  },
  {
   "cell_type": "code",
   "execution_count": 144,
   "metadata": {},
   "outputs": [],
   "source": [
    "romania=pd.read_pickle(\"romania_graph.pickle\")"
   ]
  },
  {
   "cell_type": "code",
   "execution_count": 146,
   "metadata": {},
   "outputs": [
    {
     "name": "stdout",
     "output_type": "stream",
     "text": [
      "Name: \n",
      "Type: Graph\n",
      "Number of nodes: 20\n",
      "Number of edges: 23\n",
      "Average degree:   2.3000\n"
     ]
    }
   ],
   "source": [
    "print(nx.info(romania))"
   ]
  },
  {
   "cell_type": "code",
   "execution_count": 149,
   "metadata": {},
   "outputs": [
    {
     "name": "stderr",
     "output_type": "stream",
     "text": [
      "C:\\Users\\huimi\\Anaconda3\\lib\\site-packages\\networkx\\drawing\\nx_pylab.py:522: MatplotlibDeprecationWarning: The is_string_like function was deprecated in version 2.1.\n",
      "  if not cb.is_string_like(edge_color) \\\n",
      "C:\\Users\\huimi\\Anaconda3\\lib\\site-packages\\networkx\\drawing\\nx_pylab.py:543: MatplotlibDeprecationWarning: The is_string_like function was deprecated in version 2.1.\n",
      "  if cb.is_string_like(edge_color) or len(edge_color) == 1:\n",
      "C:\\Users\\huimi\\Anaconda3\\lib\\site-packages\\networkx\\drawing\\nx_pylab.py:724: MatplotlibDeprecationWarning: The is_string_like function was deprecated in version 2.1.\n",
      "  if not cb.is_string_like(label):\n"
     ]
    },
    {
     "data": {
      "image/png": "[encoded data removed]",
      "text/plain": [
       "<Figure size 432x288 with 1 Axes>"
      ]
     },
     "metadata": {},
     "output_type": "display_data"
    }
   ],
   "source": [
    "nx.draw_networkx(romania, with_labels=True)"
   ]
  },
  {
   "cell_type": "code",
   "execution_count": 53,
   "metadata": {},
   "outputs": [],
   "source": [
    "atlanta=pd.read_pickle(\"atlanta_osm.pickle\")"
   ]
  },
  {
   "cell_type": "code",
   "execution_count": 150,
   "metadata": {},
   "outputs": [],
   "source": [
    "start='a'\n",
    "goal='c'\n",
    "graph=romania"
   ]
  },
  {
   "cell_type": "code",
   "execution_count": 153,
   "metadata": {},
   "outputs": [],
   "source": [
    "def ucs(graph,start,goal):\n",
    "    frontier={start:(0,\"start\")}\n",
    "    explored={} \n",
    "    while True:\n",
    "        #print(\"frontier: \", frontier)\n",
    "        shortest_dist=float('inf')\n",
    "        for key, value in frontier.items():           \n",
    "            if value[0]<shortest_dist:\n",
    "                shortest_dist=value[0]\n",
    "                to_be_explored=key\n",
    "        explored[to_be_explored]=frontier[to_be_explored][1]\n",
    "        for key,value in graph[to_be_explored].items():\n",
    "            if key in explored.keys():\n",
    "                continue\n",
    "            if key in frontier.keys():\n",
    "                new_distance=frontier[to_be_explored][0]+value['weight']\n",
    "                if new_distance<frontier[key][0]:\n",
    "                    frontier[key]=(new_distance,to_be_explored)\n",
    "            else:\n",
    "                distance=frontier[to_be_explored][0]+value['weight']\n",
    "                frontier[key]=(distance,to_be_explored)\n",
    "        frontier.pop(to_be_explored)    \n",
    "        if to_be_explored==goal:\n",
    "            invers_path=[goal]\n",
    "            while True:\n",
    "                next=invers_path[-1]\n",
    "                if next==start:\n",
    "                    path=invers_path[::-1]\n",
    "                    return path\n",
    "                else:\n",
    "                    invers_path.append(explored[next])"
   ]
  },
  {
   "cell_type": "code",
   "execution_count": 154,
   "metadata": {},
   "outputs": [],
   "source": [
    "path=ucs(graph,start,goal)"
   ]
  },
  {
   "cell_type": "code",
   "execution_count": 158,
   "metadata": {},
   "outputs": [
    {
     "name": "stdout",
     "output_type": "stream",
     "text": [
      "Shortest path from a to c is: a->s->r->c\n"
     ]
    }
   ],
   "source": [
    "print(\"Shortest path from %s to %s is:\"%(start,goal), \"->\".join(path)) "
   ]
  },
  {
   "cell_type": "code",
   "execution_count": 159,
   "metadata": {},
   "outputs": [],
   "source": [
    "def heuristic(graph,a,b):\n",
    "    return math.sqrt((graph.node[a]['pos'][0]-graph.node[b]['pos'][0])**2+(graph.node[a]['pos'][1]-graph.node[b]['pos'][1])**2)"
   ]
  },
  {
   "cell_type": "code",
   "execution_count": 160,
   "metadata": {},
   "outputs": [],
   "source": [
    "def Astar(graph,start,goal):\n",
    "    frontier={start: (0, heuristic(graph,start,goal),\"start\")}\n",
    "    explored={}\n",
    "    while True:\n",
    "        shortest=float('inf')\n",
    "        for key,value in frontier.items():\n",
    "            if value[0]+value[1]<shortest:\n",
    "                shortest=value[0]+value[1]\n",
    "                to_be_explored=key\n",
    "        explored[to_be_explored]=frontier[to_be_explored][2]\n",
    "        if to_be_explored==goal:\n",
    "            invers_path=[goal]\n",
    "            while True:\n",
    "                next=invers_path[-1]\n",
    "                if next==start:\n",
    "                    path=invers_path[::-1]\n",
    "                    return path\n",
    "                else:\n",
    "                    invers_path.append(explored[next])\n",
    "        for key,value in graph[to_be_explored].items():\n",
    "            if key in explored.keys():\n",
    "                continue\n",
    "            elif key in frontier.keys():\n",
    "                distance=frontier[to_be_explored][0]+value['weight']\n",
    "                if distance<frontier[key][0]:\n",
    "                    frontier[key]=(distance,heuristic(graph,key,goal),to_be_explored)\n",
    "            else:\n",
    "                distance=frontier[to_be_explored][0]+value['weight']\n",
    "                frontier[key]=(distance,heuristic(graph,key,goal),to_be_explored)\n",
    "        frontier.pop(to_be_explored)"
   ]
  },
  {
   "cell_type": "code",
   "execution_count": 161,
   "metadata": {},
   "outputs": [],
   "source": [
    "path=Astar(graph,start,goal)"
   ]
  },
  {
   "cell_type": "code",
   "execution_count": 162,
   "metadata": {},
   "outputs": [
    {
     "name": "stdout",
     "output_type": "stream",
     "text": [
      "Shortest path from a to c is: a->s->r->c\n"
     ]
    }
   ],
   "source": [
    "print(\"Shortest path from %s to %s is:\"%(start,goal), \"->\".join(path)) "
   ]
  },
  {
   "cell_type": "code",
   "execution_count": null,
   "metadata": {},
   "outputs": [],
   "source": []
  }
 ],
 "metadata": {
  "kernelspec": {
   "display_name": "Python 3",
   "language": "python",
   "name": "python3"
  },
  "language_info": {
   "codemirror_mode": {
    "name": "ipython",
    "version": 3
   },
   "file_extension": ".py",
   "mimetype": "text/x-python",
   "name": "python",
   "nbconvert_exporter": "python",
   "pygments_lexer": "ipython3",
   "version": "3.6.5"
  }
 },
 "nbformat": 4,
 "nbformat_minor": 2
}
