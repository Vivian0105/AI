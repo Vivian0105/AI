{
 "cells": [
  {
   "cell_type": "code",
   "execution_count": 3,
   "metadata": {},
   "outputs": [],
   "source": [
    "import networkx as nx\n",
    "import matplotlib.pyplot as plt\n",
    "import os\n",
    "import pandas as pd\n",
    "import numpy as np\n",
    "import math\n",
    "import time\n",
    "import random"
   ]
  },
  {
   "cell_type": "code",
   "execution_count": 4,
   "metadata": {},
   "outputs": [],
   "source": [
    "os.chdir(\"E:/AI/assignment_2_online\")"
   ]
  },
  {
   "cell_type": "code",
   "execution_count": 5,
   "metadata": {},
   "outputs": [],
   "source": [
    "romania=pd.read_pickle(\"romania_graph.pickle\")\n",
    "atlanta=pd.read_pickle(\"atlanta_osm.pickle\")"
   ]
  },
  {
   "cell_type": "code",
   "execution_count": 6,
   "metadata": {},
   "outputs": [
    {
     "name": "stdout",
     "output_type": "stream",
     "text": [
      "Name: \n",
      "Type: Graph\n",
      "Number of nodes: 252791\n",
      "Number of edges: 271652\n",
      "Average degree:   2.1492\n"
     ]
    }
   ],
   "source": [
    "print(nx.info(atlanta))"
   ]
  },
  {
   "cell_type": "code",
   "execution_count": 7,
   "metadata": {},
   "outputs": [],
   "source": [
    "def ucs(graph,start,goal):\n",
    "    start_time=time.time()\n",
    "    frontier={start:(0,\"start\")}\n",
    "    explored={} \n",
    "    while True:\n",
    "        if frontier=={}:\n",
    "            print(\"Failed to find a path.\")\n",
    "            eclipse_time=time.time()-start_time\n",
    "            return \"Falied to find the path.\",0,eclipse_time\n",
    "            break\n",
    "        shortest_dist=float('inf')\n",
    "        for key, value in frontier.items():           \n",
    "            if value[0]<shortest_dist:\n",
    "                shortest_dist=value[0]\n",
    "                to_be_explored=key\n",
    "        explored[to_be_explored]=frontier[to_be_explored]\n",
    "        for key,value in graph[to_be_explored].items():\n",
    "            if key in explored.keys():\n",
    "                continue\n",
    "            if key in frontier.keys():\n",
    "                new_distance=frontier[to_be_explored][0]+value['weight']\n",
    "                if new_distance<frontier[key][0]:\n",
    "                    frontier[key]=(new_distance,to_be_explored)\n",
    "            else:\n",
    "                distance=frontier[to_be_explored][0]+value['weight']\n",
    "                frontier[key]=(distance,to_be_explored)\n",
    "        frontier.pop(to_be_explored)    \n",
    "        if to_be_explored==goal:\n",
    "            invers_path=[goal]\n",
    "            while True:\n",
    "                next=invers_path[-1]\n",
    "                if next==start:\n",
    "                    path=invers_path[::-1]\n",
    "                    eclipse_time=time.time()-start_time\n",
    "                    return path,explored[to_be_explored][0],eclipse_time\n",
    "                else:\n",
    "                    invers_path.append(explored[next][1])"
   ]
  },
  {
   "cell_type": "code",
   "execution_count": 8,
   "metadata": {},
   "outputs": [],
   "source": [
    "def heuristic(graph,a,b):\n",
    "    return math.sqrt((graph.node[a]['pos'][0]-graph.node[b]['pos'][0])**2+(graph.node[a]['pos'][1]-graph.node[b]['pos'][1])**2)"
   ]
  },
  {
   "cell_type": "code",
   "execution_count": 9,
   "metadata": {},
   "outputs": [],
   "source": [
    "def Astar(graph,start,goal):\n",
    "    start_time=time.time()\n",
    "    frontier={start: (0, heuristic(graph,start,goal),\"start\")}\n",
    "    explored={}\n",
    "    while True:\n",
    "        if frontier=={}:\n",
    "            print(\"Failed to find a path.\")\n",
    "            eclipse_time=time.time()-start_time\n",
    "            return \"Falied to find the path.\",0,eclipse_time\n",
    "            break\n",
    "        shortest=float('inf')\n",
    "        for key,value in frontier.items():\n",
    "            if value[0]+value[1]<shortest:\n",
    "                shortest=value[0]+value[1]\n",
    "                to_be_explored=key\n",
    "        explored[to_be_explored]=(frontier[to_be_explored][0],frontier[to_be_explored][2])\n",
    "        if to_be_explored==goal:\n",
    "            invers_path=[goal]\n",
    "            while True:\n",
    "                next=invers_path[-1]\n",
    "                if next==start:\n",
    "                    path=invers_path[::-1]\n",
    "                    return path,explored[to_be_explored][0],time.time()-start_time\n",
    "                else:\n",
    "                    invers_path.append(explored[next][1])\n",
    "        for key,value in graph[to_be_explored].items():\n",
    "            if key in explored.keys():\n",
    "                continue\n",
    "            elif key in frontier.keys():\n",
    "                distance=frontier[to_be_explored][0]+value['weight']\n",
    "                if distance<frontier[key][0]:\n",
    "                    frontier[key]=(distance,heuristic(graph,key,goal),to_be_explored)\n",
    "            else:\n",
    "                distance=frontier[to_be_explored][0]+value['weight']\n",
    "                frontier[key]=(distance,heuristic(graph,key,goal),to_be_explored)\n",
    "        frontier.pop(to_be_explored)"
   ]
  },
  {
   "cell_type": "code",
   "execution_count": 10,
   "metadata": {},
   "outputs": [],
   "source": [
    "def getpath(middlepoint, explored1,explored2,start,goal):\n",
    "    invers_halfpath=[middlepoint]\n",
    "    while True:\n",
    "        next=invers_halfpath[-1]\n",
    "        if next==start:\n",
    "            break\n",
    "        else:\n",
    "            invers_halfpath.append(explored1[next][1])\n",
    "    halfpath=[middlepoint]\n",
    "    while True:\n",
    "        next=halfpath[-1]\n",
    "        if next==goal:\n",
    "            break\n",
    "        else:\n",
    "            halfpath.append(explored2[next][1])\n",
    "    path=invers_halfpath[::-1]+halfpath[1:]\n",
    "    return path"
   ]
  },
  {
   "cell_type": "code",
   "execution_count": 11,
   "metadata": {},
   "outputs": [],
   "source": [
    "def bidirection_ucs(graph,start,goal):\n",
    "    start_time=time.time()\n",
    "    frontier1={start:(0,\"start\")}\n",
    "    frontier2={goal:(0,\"goal\")}\n",
    "    explored1={}\n",
    "    explored2={}\n",
    "    while True:\n",
    "        if frontier1=={} or frontier2=={}:\n",
    "            print(\"Failed to find a path.\")\n",
    "            eclipse_time=time.time()-start_time\n",
    "            return \"Falied to find the path.\",0,eclipse_time\n",
    "            break\n",
    "        shortest_dist1=float('inf')\n",
    "        for key, value in frontier1.items():           \n",
    "            if value[0]<shortest_dist1:\n",
    "                shortest_dist1=value[0]\n",
    "                to_be_explored1=key\n",
    "        explored1[to_be_explored1]=frontier1[to_be_explored1]\n",
    "        shortest_dist2=float('inf')\n",
    "        for key,value in frontier2.items():\n",
    "            if value[0]<shortest_dist2:\n",
    "                shortest_dist2=value[0]\n",
    "                to_be_explored2=key\n",
    "        explored2[to_be_explored2]=frontier2[to_be_explored2]   \n",
    "        for key,value in graph[to_be_explored1].items():\n",
    "            if key in explored1.keys():\n",
    "                continue\n",
    "            if key in frontier1.keys():\n",
    "                new_distance=frontier1[to_be_explored1][0]+value['weight']\n",
    "                if new_distance<frontier1[key][0]:\n",
    "                    frontier1[key]=(new_distance,to_be_explored1)\n",
    "            else:\n",
    "                distance=frontier1[to_be_explored1][0]+value['weight']\n",
    "                frontier1[key]=(distance,to_be_explored1)\n",
    "        for key,value in graph[to_be_explored2].items():\n",
    "            if key in explored2.keys():\n",
    "                continue\n",
    "            if key in frontier2.keys():\n",
    "                new_distance=frontier2[to_be_explored2][0]+value['weight']\n",
    "                if new_distance<frontier2[key][0]:\n",
    "                    frontier2[key]=(new_distance,to_be_explored2)\n",
    "            else:\n",
    "                distance=frontier2[to_be_explored2][0]+value['weight']\n",
    "                frontier2[key]=(distance,to_be_explored2)\n",
    "        frontier1.pop(to_be_explored1)\n",
    "        frontier2.pop(to_be_explored2)\n",
    "        if to_be_explored1 in explored2.keys():\n",
    "            path=getpath(to_be_explored1, explored1,explored2,start,goal)\n",
    "            distance=explored1[to_be_explored1][0]+explored2[to_be_explored1][0]\n",
    "            time_eclipse=time.time()-start_time\n",
    "            return path,distance,time_eclipse\n",
    "        elif to_be_explored2 in explored1.keys():\n",
    "            path=getpath(to_be_explored2,explored1,explored2,start,goal)\n",
    "            distance=explored1[to_be_explored2][0]+explored2[to_be_explored2][0]\n",
    "            time_eclipse=time.time()-start_time\n",
    "            return path,distance,time_eclipse            "
   ]
  },
  {
   "cell_type": "code",
   "execution_count": 14,
   "metadata": {},
   "outputs": [],
   "source": [
    "start='a'\n",
    "goal='b'\n",
    "graph=romania\n",
    "episode=100"
   ]
  },
  {
   "cell_type": "code",
   "execution_count": null,
   "metadata": {},
   "outputs": [],
   "source": [
    "path1,distance1,eclipse_time1=ucs(graph,start,goal)\n",
    "print(\"Distance between start and goal is %f.\"%(distance1))\n",
    "print(\"Time used for searching is %f.\"%(eclipse_time1))"
   ]
  },
  {
   "cell_type": "code",
   "execution_count": null,
   "metadata": {},
   "outputs": [],
   "source": [
    "path2,distance2,eclipse_time2=Astar(graph,start,goal)\n",
    "print(\"Distance between start and goal is %f.\"%(distance2))\n",
    "print(\"Time used for searching is %f.\"%(eclipse_time2))"
   ]
  },
  {
   "cell_type": "code",
   "execution_count": 15,
   "metadata": {},
   "outputs": [
    {
     "name": "stdout",
     "output_type": "stream",
     "text": [
      "Distance between start and goal is 418.000000.\n",
      "Time used for searching is 0.000000.\n"
     ]
    }
   ],
   "source": [
    "path3,distance3,eclipse_time3=bidirection_ucs(graph,start,goal)\n",
    "print(\"Distance between start and goal is %f.\"%(distance3))\n",
    "print(\"Time used for searching is %f.\"%(eclipse_time3))"
   ]
  },
  {
   "cell_type": "code",
   "execution_count": 16,
   "metadata": {},
   "outputs": [
    {
     "name": "stdout",
     "output_type": "stream",
     "text": [
      "Failed to find a path.\n",
      "Failed to find a path.\n",
      "Failed to find a path.\n",
      "Average time needed for usc, Astar and bi-usc is 6.342769,10.113235,4.706228 respectively.\n"
     ]
    }
   ],
   "source": [
    "different_path=0\n",
    "time1=0\n",
    "time2=0\n",
    "time3=0\n",
    "for i in range(episode):\n",
    "    start,goal=random.sample(atlanta.nodes(),2)\n",
    "    path1,distance1,eclipse_time1=ucs(atlanta,start,goal)\n",
    "    path2,distance2,eclipse_time2=Astar(atlanta,start,goal)\n",
    "    path3,distance3,eclipse_time3=bidirection_ucs(atlanta,start,goal)\n",
    "    if distance1-distance2>distance1*0.00001 or distance1-distance3>distance1*0.00001:\n",
    "        different_path+=1\n",
    "    time1+=eclipse_time1\n",
    "    time2+=eclipse_time2\n",
    "    time3+=eclipse_time3\n",
    "print(\"Average time needed for usc, Astar and bi-usc is %f,%f,%f respectively.\"%(time1/100,time2/100,time3/100))  \n",
    "    "
   ]
  },
  {
   "cell_type": "code",
   "execution_count": 17,
   "metadata": {},
   "outputs": [
    {
     "name": "stdout",
     "output_type": "stream",
     "text": [
      "Average time needed for Uniform Cost Search is 6.342769s.\n",
      "Average time needed for A Star is 10.113235s.\n",
      "Average time needed for Bi-direction Uniform Cost Search is 4.706228s.\n"
     ]
    }
   ],
   "source": [
    "print(\"Average time needed for Uniform Cost Search is %fs.\"%(time1/100))\n",
    "print(\"Average time needed for A Star is %fs.\"%(time2/100))\n",
    "print(\"Average time needed for Bi-direction Uniform Cost Search is %fs.\"%(time3/100))"
   ]
  },
  {
   "cell_type": "markdown",
   "metadata": {},
   "source": [
    "Summary: In my experiment, bi-direction ucs is the fastest, because on average it searches less nodes, especially if the start node is far away from the goal. \n",
    "A Star needs more time because heuristic distance needs to be calculated. "
   ]
  },
  {
   "cell_type": "code",
   "execution_count": null,
   "metadata": {},
   "outputs": [],
   "source": []
  }
 ],
 "metadata": {
  "kernelspec": {
   "display_name": "Python 3",
   "language": "python",
   "name": "python3"
  },
  "language_info": {
   "codemirror_mode": {
    "name": "ipython",
    "version": 3
   },
   "file_extension": ".py",
   "mimetype": "text/x-python",
   "name": "python",
   "nbconvert_exporter": "python",
   "pygments_lexer": "ipython3",
   "version": "3.6.5"
  }
 },
 "nbformat": 4,
 "nbformat_minor": 2
}
